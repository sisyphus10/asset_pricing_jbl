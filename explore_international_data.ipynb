{
 "cells": [
  {
   "cell_type": "code",
   "id": "initial_id",
   "metadata": {
    "collapsed": true,
    "ExecuteTime": {
     "end_time": "2024-06-17T21:16:00.782662Z",
     "start_time": "2024-06-17T21:16:00.779007Z"
    }
   },
   "source": [
    "import pandas as pd\n",
    "import numpy as np\n",
    "import matplotlib.pyplot as plt\n",
    "import seaborn as sns\n",
    "import pyreadr\n",
    "import warnings\n",
    "\n",
    "warnings.filterwarnings(action=\"ignore\", category=pd.errors.PerformanceWarning)"
   ],
   "execution_count": 15,
   "outputs": []
  },
  {
   "metadata": {
    "ExecuteTime": {
     "end_time": "2024-06-17T21:16:13.953245Z",
     "start_time": "2024-06-17T21:16:01.753241Z"
    }
   },
   "cell_type": "code",
   "source": [
    "# file_path = '/Users/johannes/Dropbox/ML AP Project/empirical analysis/data/gfin_data_yly_and_mthly_global_fin_p1.RData'\n",
    "file_path = \"/Users/johannes/Dropbox/ML AP Project/empirical analysis/data/pdata_mthly_fin.RData\"\n",
    "df = pyreadr.read_r(file_path)"
   ],
   "id": "dab1b62e4bbfe0b1",
   "outputs": [],
   "execution_count": 16
  },
  {
   "metadata": {},
   "cell_type": "code",
   "outputs": [],
   "execution_count": null,
   "source": [
    "# df = df['cstatmerged_p1']\n",
    "df = df[\"panel_mthly\"]"
   ],
   "id": "7b6282a31589303e"
  },
  {
   "metadata": {
    "ExecuteTime": {
     "end_time": "2024-06-17T21:17:20.134611Z",
     "start_time": "2024-06-17T21:17:20.131530Z"
    }
   },
   "cell_type": "code",
   "source": "cols = df.columns.to_frame()",
   "id": "335d3b202d25ff32",
   "outputs": [],
   "execution_count": 19
  },
  {
   "metadata": {
    "ExecuteTime": {
     "end_time": "2024-06-17T21:16:48.962466Z",
     "start_time": "2024-06-17T21:16:48.130745Z"
    }
   },
   "cell_type": "code",
   "source": [
    "# Convert data in required format\n",
    "\n",
    "date_columns = [\"date\", \"datadate_yly\", \"beg4mgap\", \"end4mgap\"]\n",
    "df[date_columns] = df[date_columns].apply(pd.to_datetime, errors=\"coerce\")\n",
    "\n",
    "# convert int columns defined as object to int\n",
    "df[\"age\"] = df[\"age\"].astype(\"Int64\")\n",
    "df[\"exchg\"] = df[\"exchg\"].astype(\"Int64\")\n",
    "\n",
    "cols_with_dtype = df.dtypes.to_frame()"
   ],
   "id": "eb3385c7cda902a6",
   "outputs": [
    {
     "ename": "KeyError",
     "evalue": "\"None of [Index(['date', 'datadate_yly', 'beg4mgap', 'end4mgap'], dtype='object')] are in the [columns]\"",
     "output_type": "error",
     "traceback": [
      "\u001b[0;31m---------------------------------------------------------------------------\u001b[0m",
      "\u001b[0;31mKeyError\u001b[0m                                  Traceback (most recent call last)",
      "Cell \u001b[0;32mIn[18], line 4\u001b[0m\n\u001b[1;32m      1\u001b[0m \u001b[38;5;66;03m# Convert data in required format\u001b[39;00m\n\u001b[1;32m      3\u001b[0m date_columns \u001b[38;5;241m=\u001b[39m [\u001b[38;5;124m\"\u001b[39m\u001b[38;5;124mdate\u001b[39m\u001b[38;5;124m\"\u001b[39m, \u001b[38;5;124m\"\u001b[39m\u001b[38;5;124mdatadate_yly\u001b[39m\u001b[38;5;124m\"\u001b[39m, \u001b[38;5;124m\"\u001b[39m\u001b[38;5;124mbeg4mgap\u001b[39m\u001b[38;5;124m\"\u001b[39m, \u001b[38;5;124m\"\u001b[39m\u001b[38;5;124mend4mgap\u001b[39m\u001b[38;5;124m\"\u001b[39m]\n\u001b[0;32m----> 4\u001b[0m df[date_columns] \u001b[38;5;241m=\u001b[39m \u001b[43mdf\u001b[49m\u001b[43m[\u001b[49m\u001b[43mdate_columns\u001b[49m\u001b[43m]\u001b[49m\u001b[38;5;241m.\u001b[39mapply(pd\u001b[38;5;241m.\u001b[39mto_datetime, errors\u001b[38;5;241m=\u001b[39m\u001b[38;5;124m\"\u001b[39m\u001b[38;5;124mcoerce\u001b[39m\u001b[38;5;124m\"\u001b[39m)\n\u001b[1;32m      6\u001b[0m \u001b[38;5;66;03m# convert int columns defined as object to int\u001b[39;00m\n\u001b[1;32m      7\u001b[0m df[\u001b[38;5;124m\"\u001b[39m\u001b[38;5;124mage\u001b[39m\u001b[38;5;124m\"\u001b[39m] \u001b[38;5;241m=\u001b[39m df[\u001b[38;5;124m\"\u001b[39m\u001b[38;5;124mage\u001b[39m\u001b[38;5;124m\"\u001b[39m]\u001b[38;5;241m.\u001b[39mastype(\u001b[38;5;124m\"\u001b[39m\u001b[38;5;124mInt64\u001b[39m\u001b[38;5;124m\"\u001b[39m)\n",
      "File \u001b[0;32m~/opt/anaconda3/envs/asset-pricing/lib/python3.10/site-packages/pandas/core/frame.py:4096\u001b[0m, in \u001b[0;36mDataFrame.__getitem__\u001b[0;34m(self, key)\u001b[0m\n\u001b[1;32m   4094\u001b[0m     \u001b[38;5;28;01mif\u001b[39;00m is_iterator(key):\n\u001b[1;32m   4095\u001b[0m         key \u001b[38;5;241m=\u001b[39m \u001b[38;5;28mlist\u001b[39m(key)\n\u001b[0;32m-> 4096\u001b[0m     indexer \u001b[38;5;241m=\u001b[39m \u001b[38;5;28;43mself\u001b[39;49m\u001b[38;5;241;43m.\u001b[39;49m\u001b[43mcolumns\u001b[49m\u001b[38;5;241;43m.\u001b[39;49m\u001b[43m_get_indexer_strict\u001b[49m\u001b[43m(\u001b[49m\u001b[43mkey\u001b[49m\u001b[43m,\u001b[49m\u001b[43m \u001b[49m\u001b[38;5;124;43m\"\u001b[39;49m\u001b[38;5;124;43mcolumns\u001b[39;49m\u001b[38;5;124;43m\"\u001b[39;49m\u001b[43m)\u001b[49m[\u001b[38;5;241m1\u001b[39m]\n\u001b[1;32m   4098\u001b[0m \u001b[38;5;66;03m# take() does not accept boolean indexers\u001b[39;00m\n\u001b[1;32m   4099\u001b[0m \u001b[38;5;28;01mif\u001b[39;00m \u001b[38;5;28mgetattr\u001b[39m(indexer, \u001b[38;5;124m\"\u001b[39m\u001b[38;5;124mdtype\u001b[39m\u001b[38;5;124m\"\u001b[39m, \u001b[38;5;28;01mNone\u001b[39;00m) \u001b[38;5;241m==\u001b[39m \u001b[38;5;28mbool\u001b[39m:\n",
      "File \u001b[0;32m~/opt/anaconda3/envs/asset-pricing/lib/python3.10/site-packages/pandas/core/indexes/base.py:6200\u001b[0m, in \u001b[0;36mIndex._get_indexer_strict\u001b[0;34m(self, key, axis_name)\u001b[0m\n\u001b[1;32m   6197\u001b[0m \u001b[38;5;28;01melse\u001b[39;00m:\n\u001b[1;32m   6198\u001b[0m     keyarr, indexer, new_indexer \u001b[38;5;241m=\u001b[39m \u001b[38;5;28mself\u001b[39m\u001b[38;5;241m.\u001b[39m_reindex_non_unique(keyarr)\n\u001b[0;32m-> 6200\u001b[0m \u001b[38;5;28;43mself\u001b[39;49m\u001b[38;5;241;43m.\u001b[39;49m\u001b[43m_raise_if_missing\u001b[49m\u001b[43m(\u001b[49m\u001b[43mkeyarr\u001b[49m\u001b[43m,\u001b[49m\u001b[43m \u001b[49m\u001b[43mindexer\u001b[49m\u001b[43m,\u001b[49m\u001b[43m \u001b[49m\u001b[43maxis_name\u001b[49m\u001b[43m)\u001b[49m\n\u001b[1;32m   6202\u001b[0m keyarr \u001b[38;5;241m=\u001b[39m \u001b[38;5;28mself\u001b[39m\u001b[38;5;241m.\u001b[39mtake(indexer)\n\u001b[1;32m   6203\u001b[0m \u001b[38;5;28;01mif\u001b[39;00m \u001b[38;5;28misinstance\u001b[39m(key, Index):\n\u001b[1;32m   6204\u001b[0m     \u001b[38;5;66;03m# GH 42790 - Preserve name from an Index\u001b[39;00m\n",
      "File \u001b[0;32m~/opt/anaconda3/envs/asset-pricing/lib/python3.10/site-packages/pandas/core/indexes/base.py:6249\u001b[0m, in \u001b[0;36mIndex._raise_if_missing\u001b[0;34m(self, key, indexer, axis_name)\u001b[0m\n\u001b[1;32m   6247\u001b[0m \u001b[38;5;28;01mif\u001b[39;00m nmissing:\n\u001b[1;32m   6248\u001b[0m     \u001b[38;5;28;01mif\u001b[39;00m nmissing \u001b[38;5;241m==\u001b[39m \u001b[38;5;28mlen\u001b[39m(indexer):\n\u001b[0;32m-> 6249\u001b[0m         \u001b[38;5;28;01mraise\u001b[39;00m \u001b[38;5;167;01mKeyError\u001b[39;00m(\u001b[38;5;124mf\u001b[39m\u001b[38;5;124m\"\u001b[39m\u001b[38;5;124mNone of [\u001b[39m\u001b[38;5;132;01m{\u001b[39;00mkey\u001b[38;5;132;01m}\u001b[39;00m\u001b[38;5;124m] are in the [\u001b[39m\u001b[38;5;132;01m{\u001b[39;00maxis_name\u001b[38;5;132;01m}\u001b[39;00m\u001b[38;5;124m]\u001b[39m\u001b[38;5;124m\"\u001b[39m)\n\u001b[1;32m   6251\u001b[0m     not_found \u001b[38;5;241m=\u001b[39m \u001b[38;5;28mlist\u001b[39m(ensure_index(key)[missing_mask\u001b[38;5;241m.\u001b[39mnonzero()[\u001b[38;5;241m0\u001b[39m]]\u001b[38;5;241m.\u001b[39munique())\n\u001b[1;32m   6252\u001b[0m     \u001b[38;5;28;01mraise\u001b[39;00m \u001b[38;5;167;01mKeyError\u001b[39;00m(\u001b[38;5;124mf\u001b[39m\u001b[38;5;124m\"\u001b[39m\u001b[38;5;132;01m{\u001b[39;00mnot_found\u001b[38;5;132;01m}\u001b[39;00m\u001b[38;5;124m not in index\u001b[39m\u001b[38;5;124m\"\u001b[39m)\n",
      "\u001b[0;31mKeyError\u001b[0m: \"None of [Index(['date', 'datadate_yly', 'beg4mgap', 'end4mgap'], dtype='object')] are in the [columns]\""
     ]
    }
   ],
   "execution_count": 18
  },
  {
   "metadata": {
    "ExecuteTime": {
     "end_time": "2024-06-17T21:19:00.019910Z",
     "start_time": "2024-06-17T21:18:59.961400Z"
    }
   },
   "cell_type": "code",
   "source": [
    "gvkeys_list = df[\"gvkey\"].unique()\n",
    "\n",
    "gvkey_test = df[df[\"gvkey\"] == gvkeys_list[7114]]"
   ],
   "id": "e67e5f2897ab5aff",
   "outputs": [],
   "execution_count": 20
  },
  {
   "metadata": {
    "ExecuteTime": {
     "end_time": "2024-06-17T21:19:06.013195Z",
     "start_time": "2024-06-17T21:19:05.906539Z"
    }
   },
   "cell_type": "code",
   "source": [
    "# Check if columns country.x and country.y are equal\n",
    "df[\"country.x\"] = df[\"country.x\"].str.lower()\n",
    "# df[\"country.y\"] = df[\"country.y\"].str.lower()\n",
    "\n",
    "# generate a dataframe which is called equal_country which contains country.x and country.y from df\n",
    "equal_country = df[[\"gvkey\", \"country.x\", \"country.y\"]].copy()\n",
    "\n",
    "equal_country[\"country_x_stable\"] = (\n",
    "    equal_country.groupby(\"gvkey\")[\"country.x\"].transform(\"nunique\") == 1\n",
    ")\n",
    "equal_country[\"country_y_stable\"] = (\n",
    "    equal_country.groupby(\"gvkey\")[\"country.y\"].transform(\"nunique\") == 1\n",
    ")\n",
    "\n",
    "equal_country[\"country_equal\"] = (\n",
    "    equal_country[\"country.x\"] == equal_country[\"country.y\"]\n",
    ")\n",
    "\n",
    "equal_country = equal_country.drop_duplicates(subset=\"gvkey\", keep=\"first\")\n",
    "\n",
    "\n",
    "# Function to plot the occurrence of countries with options to normalize, limit to top N countries, and count NaN values\n",
    "def plot_country_occurrence(\n",
    "    df: pd.DataFrame,\n",
    "    normalize: bool = False,\n",
    "    top_n: int = None,\n",
    "    count_nan: bool = False,\n",
    "):\n",
    "    # Count the occurrences of each country\n",
    "    country_counts = df[\"country.x\"].value_counts().reset_index()\n",
    "    country_counts.columns = [\"country\", \"count\"]\n",
    "\n",
    "    if normalize:\n",
    "        # Normalize the values by dividing by the total number of countries\n",
    "        total_counts = country_counts[\"count\"].sum()\n",
    "        country_counts[\"count\"] = country_counts[\"count\"] / total_counts\n",
    "\n",
    "    if top_n:\n",
    "        # Limit to the top N countries\n",
    "        country_counts = country_counts.head(top_n)\n",
    "\n",
    "    # Plot the bar chart\n",
    "    plt.figure(figsize=(10, 6))\n",
    "    plt.bar(country_counts[\"country\"], country_counts[\"count\"])\n",
    "    plt.xticks(rotation=90)\n",
    "    plt.xlabel(\"Country\")\n",
    "    plt.ylabel(\"Count\" if not normalize else \"Proportion\")\n",
    "    plt.title(\n",
    "        \"Occurrence of Countries\" + (\" (Normalized)\" if normalize else \"\")\n",
    "    )\n",
    "    plt.show()\n",
    "\n",
    "    if count_nan:\n",
    "        if normalize:\n",
    "            # Count the number of NaN values in the 'country.x' column\n",
    "            nan_count = df[\"country.x\"].isna().sum() / len(df)\n",
    "            print(f\"Proportion of NaN values in country.x: {nan_count}\")\n",
    "        else:\n",
    "            nan_count = df[\"country.x\"].isna().sum()\n",
    "            print(f\"Number of NaN values in country.x: {nan_count}\")\n",
    "\n",
    "\n",
    "# Example usage\n",
    "plot_country_occurrence(\n",
    "    equal_country, normalize=True, top_n=10, count_nan=True\n",
    ")  # Without normalization\n",
    "# plot_country_occurrence(equal_country, normalize=True)"
   ],
   "id": "95cc5c1d4904caff",
   "outputs": [
    {
     "ename": "KeyError",
     "evalue": "'country.x'",
     "output_type": "error",
     "traceback": [
      "\u001b[0;31m---------------------------------------------------------------------------\u001b[0m",
      "\u001b[0;31mKeyError\u001b[0m                                  Traceback (most recent call last)",
      "File \u001b[0;32m~/opt/anaconda3/envs/asset-pricing/lib/python3.10/site-packages/pandas/core/indexes/base.py:3805\u001b[0m, in \u001b[0;36mIndex.get_loc\u001b[0;34m(self, key)\u001b[0m\n\u001b[1;32m   3804\u001b[0m \u001b[38;5;28;01mtry\u001b[39;00m:\n\u001b[0;32m-> 3805\u001b[0m     \u001b[38;5;28;01mreturn\u001b[39;00m \u001b[38;5;28;43mself\u001b[39;49m\u001b[38;5;241;43m.\u001b[39;49m\u001b[43m_engine\u001b[49m\u001b[38;5;241;43m.\u001b[39;49m\u001b[43mget_loc\u001b[49m\u001b[43m(\u001b[49m\u001b[43mcasted_key\u001b[49m\u001b[43m)\u001b[49m\n\u001b[1;32m   3806\u001b[0m \u001b[38;5;28;01mexcept\u001b[39;00m \u001b[38;5;167;01mKeyError\u001b[39;00m \u001b[38;5;28;01mas\u001b[39;00m err:\n",
      "File \u001b[0;32mindex.pyx:167\u001b[0m, in \u001b[0;36mpandas._libs.index.IndexEngine.get_loc\u001b[0;34m()\u001b[0m\n",
      "File \u001b[0;32mindex.pyx:196\u001b[0m, in \u001b[0;36mpandas._libs.index.IndexEngine.get_loc\u001b[0;34m()\u001b[0m\n",
      "File \u001b[0;32mpandas/_libs/hashtable_class_helper.pxi:7081\u001b[0m, in \u001b[0;36mpandas._libs.hashtable.PyObjectHashTable.get_item\u001b[0;34m()\u001b[0m\n",
      "File \u001b[0;32mpandas/_libs/hashtable_class_helper.pxi:7089\u001b[0m, in \u001b[0;36mpandas._libs.hashtable.PyObjectHashTable.get_item\u001b[0;34m()\u001b[0m\n",
      "\u001b[0;31mKeyError\u001b[0m: 'country.x'",
      "\nThe above exception was the direct cause of the following exception:\n",
      "\u001b[0;31mKeyError\u001b[0m                                  Traceback (most recent call last)",
      "Cell \u001b[0;32mIn[21], line 2\u001b[0m\n\u001b[1;32m      1\u001b[0m \u001b[38;5;66;03m# Check if columns country.x and country.y are equal\u001b[39;00m\n\u001b[0;32m----> 2\u001b[0m df[\u001b[38;5;124m\"\u001b[39m\u001b[38;5;124mcountry.x\u001b[39m\u001b[38;5;124m\"\u001b[39m] \u001b[38;5;241m=\u001b[39m \u001b[43mdf\u001b[49m\u001b[43m[\u001b[49m\u001b[38;5;124;43m\"\u001b[39;49m\u001b[38;5;124;43mcountry.x\u001b[39;49m\u001b[38;5;124;43m\"\u001b[39;49m\u001b[43m]\u001b[49m\u001b[38;5;241m.\u001b[39mstr\u001b[38;5;241m.\u001b[39mlower()\n\u001b[1;32m      3\u001b[0m df[\u001b[38;5;124m\"\u001b[39m\u001b[38;5;124mcountry.y\u001b[39m\u001b[38;5;124m\"\u001b[39m] \u001b[38;5;241m=\u001b[39m df[\u001b[38;5;124m\"\u001b[39m\u001b[38;5;124mcountry.y\u001b[39m\u001b[38;5;124m\"\u001b[39m]\u001b[38;5;241m.\u001b[39mstr\u001b[38;5;241m.\u001b[39mlower()\n\u001b[1;32m      5\u001b[0m \u001b[38;5;66;03m# generate a dataframe which is called equal_country which contains country.x and country.y from df\u001b[39;00m\n",
      "File \u001b[0;32m~/opt/anaconda3/envs/asset-pricing/lib/python3.10/site-packages/pandas/core/frame.py:4090\u001b[0m, in \u001b[0;36mDataFrame.__getitem__\u001b[0;34m(self, key)\u001b[0m\n\u001b[1;32m   4088\u001b[0m \u001b[38;5;28;01mif\u001b[39;00m \u001b[38;5;28mself\u001b[39m\u001b[38;5;241m.\u001b[39mcolumns\u001b[38;5;241m.\u001b[39mnlevels \u001b[38;5;241m>\u001b[39m \u001b[38;5;241m1\u001b[39m:\n\u001b[1;32m   4089\u001b[0m     \u001b[38;5;28;01mreturn\u001b[39;00m \u001b[38;5;28mself\u001b[39m\u001b[38;5;241m.\u001b[39m_getitem_multilevel(key)\n\u001b[0;32m-> 4090\u001b[0m indexer \u001b[38;5;241m=\u001b[39m \u001b[38;5;28;43mself\u001b[39;49m\u001b[38;5;241;43m.\u001b[39;49m\u001b[43mcolumns\u001b[49m\u001b[38;5;241;43m.\u001b[39;49m\u001b[43mget_loc\u001b[49m\u001b[43m(\u001b[49m\u001b[43mkey\u001b[49m\u001b[43m)\u001b[49m\n\u001b[1;32m   4091\u001b[0m \u001b[38;5;28;01mif\u001b[39;00m is_integer(indexer):\n\u001b[1;32m   4092\u001b[0m     indexer \u001b[38;5;241m=\u001b[39m [indexer]\n",
      "File \u001b[0;32m~/opt/anaconda3/envs/asset-pricing/lib/python3.10/site-packages/pandas/core/indexes/base.py:3812\u001b[0m, in \u001b[0;36mIndex.get_loc\u001b[0;34m(self, key)\u001b[0m\n\u001b[1;32m   3807\u001b[0m     \u001b[38;5;28;01mif\u001b[39;00m \u001b[38;5;28misinstance\u001b[39m(casted_key, \u001b[38;5;28mslice\u001b[39m) \u001b[38;5;129;01mor\u001b[39;00m (\n\u001b[1;32m   3808\u001b[0m         \u001b[38;5;28misinstance\u001b[39m(casted_key, abc\u001b[38;5;241m.\u001b[39mIterable)\n\u001b[1;32m   3809\u001b[0m         \u001b[38;5;129;01mand\u001b[39;00m \u001b[38;5;28many\u001b[39m(\u001b[38;5;28misinstance\u001b[39m(x, \u001b[38;5;28mslice\u001b[39m) \u001b[38;5;28;01mfor\u001b[39;00m x \u001b[38;5;129;01min\u001b[39;00m casted_key)\n\u001b[1;32m   3810\u001b[0m     ):\n\u001b[1;32m   3811\u001b[0m         \u001b[38;5;28;01mraise\u001b[39;00m InvalidIndexError(key)\n\u001b[0;32m-> 3812\u001b[0m     \u001b[38;5;28;01mraise\u001b[39;00m \u001b[38;5;167;01mKeyError\u001b[39;00m(key) \u001b[38;5;28;01mfrom\u001b[39;00m \u001b[38;5;21;01merr\u001b[39;00m\n\u001b[1;32m   3813\u001b[0m \u001b[38;5;28;01mexcept\u001b[39;00m \u001b[38;5;167;01mTypeError\u001b[39;00m:\n\u001b[1;32m   3814\u001b[0m     \u001b[38;5;66;03m# If we have a listlike key, _check_indexing_error will raise\u001b[39;00m\n\u001b[1;32m   3815\u001b[0m     \u001b[38;5;66;03m#  InvalidIndexError. Otherwise we fall through and re-raise\u001b[39;00m\n\u001b[1;32m   3816\u001b[0m     \u001b[38;5;66;03m#  the TypeError.\u001b[39;00m\n\u001b[1;32m   3817\u001b[0m     \u001b[38;5;28mself\u001b[39m\u001b[38;5;241m.\u001b[39m_check_indexing_error(key)\n",
      "\u001b[0;31mKeyError\u001b[0m: 'country.x'"
     ]
    }
   ],
   "execution_count": 21
  },
  {
   "metadata": {},
   "cell_type": "code",
   "source": [
    "# count unique gfkeys and the number of observations for each gfkey\n",
    "unique_gfkeys = df[[\"gvkey\", \"country.x\"]].copy()\n",
    "unique_gfkeys[\"obs_count\"] = df[\"gvkey\"].value_counts().to_frame()\n",
    "\n",
    "\n",
    "# Function to plot the distribution of the number of gvkeys with a given number of observations\n",
    "def plot_obs_distribution(\n",
    "    df: pd.DataFrame, country: str = None, normalize: bool = False\n",
    "):\n",
    "    if country:\n",
    "        # Filter the DataFrame for the specified country\n",
    "        country_df = df[df[\"country.x\"] == country]\n",
    "    else:\n",
    "        # Use the entire DataFrame if no country is specified\n",
    "        country_df = df\n",
    "\n",
    "    # Count the number of observations per gvkey\n",
    "    obs_count = country_df.groupby(\"gvkey\").size().reset_index(name=\"obs_count\")\n",
    "\n",
    "    # Count how many gvkeys have each number of observations\n",
    "    obs_distribution = obs_count[\"obs_count\"].value_counts().reset_index()\n",
    "    obs_distribution.columns = [\"num_observations\", \"num_gvkeys\"]\n",
    "\n",
    "    # Sort the values for better visualization\n",
    "    obs_distribution = obs_distribution.sort_values(by=\"num_observations\")\n",
    "\n",
    "    if normalize:\n",
    "        # Normalize the values by dividing by the total number of gvkeys\n",
    "        total_gvkeys = obs_distribution[\"num_gvkeys\"].sum()\n",
    "        obs_distribution[\"num_gvkeys\"] = (\n",
    "            obs_distribution[\"num_gvkeys\"] / total_gvkeys\n",
    "        )\n",
    "\n",
    "    # Plot the bar chart\n",
    "    plt.figure(figsize=(20, 10))\n",
    "    plt.bar(\n",
    "        obs_distribution[\"num_observations\"], obs_distribution[\"num_gvkeys\"]\n",
    "    )\n",
    "    plt.xlabel(\"Number of Observations\")\n",
    "    plt.ylabel(\"Number of gvkeys\" if not normalize else \"Proportion of gvkeys\")\n",
    "    if country:\n",
    "        plt.title(\n",
    "            f\"Distribution of Number of Observations per gvkey for {country}\"\n",
    "        )\n",
    "    else:\n",
    "        plt.title(\n",
    "            \"Distribution of Number of Observations per gvkey for All Countries\"\n",
    "        )\n",
    "    plt.show()\n",
    "\n",
    "\n",
    "plot_obs_distribution(unique_gfkeys, country=None, normalize=True)"
   ],
   "id": "5206d0d79fcc9952",
   "outputs": [],
   "execution_count": null
  },
  {
   "metadata": {
    "jupyter": {
     "is_executing": true
    }
   },
   "cell_type": "code",
   "source": [
    "# for each gvkey check if there is only a unique value in the column country.x, if so add the entry to the column country in unique_gfkeys if not say not defined\n",
    "\n",
    "\n",
    "def country_inspection(df: pd.DataFrame = df, col: str = None):\n",
    "    unique_gfkeys[col] = None\n",
    "    for i in unique_gfkeys.index:\n",
    "        if len(df[df[\"gvkey\"] == i][col].unique()) == 1:\n",
    "            unique_gfkeys.loc[i, col] = df[df[\"gvkey\"] == i][col].unique()[0]\n",
    "        else:\n",
    "            unique_gfkeys.loc[i, col] = \"not unique\"\n",
    "\n",
    "\n",
    "country_inspection(df, \"country.x\")"
   ],
   "id": "c9173743d90a1781",
   "outputs": [],
   "execution_count": null
  },
  {
   "metadata": {
    "ExecuteTime": {
     "end_time": "2024-06-17T21:20:49.324899Z",
     "start_time": "2024-06-17T21:20:44.986558Z"
    }
   },
   "cell_type": "code",
   "source": [
    "# for each numeric column and each gvkey in df calculate the min, max, mean, and standard deviation and store these values in a new dataframe where the columns have the respective names with a suffix\n",
    "# that indicates the respective statistic\n",
    "\n",
    "\n",
    "def calculate_statistics(df: pd.DataFrame = df, cols: list = None):\n",
    "    statistics = pd.DataFrame()\n",
    "    for col in cols:\n",
    "        statistics[col + \"_min\"] = df.groupby(\"gvkey\")[col].min()\n",
    "        statistics[col + \"_max\"] = df.groupby(\"gvkey\")[col].max()\n",
    "        statistics[col + \"_mean\"] = df.groupby(\"gvkey\")[col].mean()\n",
    "        statistics[col + \"_std\"] = df.groupby(\"gvkey\")[col].std()\n",
    "\n",
    "    return statistics\n",
    "\n",
    "\n",
    "numeric_cols = df.select_dtypes(include=[np.number]).columns\n",
    "numeric_cols = numeric_cols.drop(\"gvkey\")\n",
    "\n",
    "statistics = calculate_statistics(df, numeric_cols)\n",
    "\n",
    "# drop rows which only contain NaN values\n",
    "statistics = statistics.dropna(how=\"all\")"
   ],
   "id": "6ac0b608d30d6bbc",
   "outputs": [],
   "execution_count": 22
  },
  {
   "metadata": {
    "ExecuteTime": {
     "end_time": "2024-06-17T21:21:22.060991Z",
     "start_time": "2024-06-17T21:20:53.226167Z"
    }
   },
   "cell_type": "code",
   "source": [
    "# Calculate the missing values for each gvkey and each column and normalize the result over all observations for each gvkey\n",
    "\n",
    "\n",
    "def calculate_missing_values(df: pd.DataFrame = df):\n",
    "    missing_values = pd.DataFrame()\n",
    "    for col in df.columns:\n",
    "        missing_values[col + \"_missing\"] = df.groupby(\"gvkey\")[col].apply(\n",
    "            lambda x: x.isnull().sum() / len(x)\n",
    "        )\n",
    "\n",
    "    return missing_values\n",
    "\n",
    "\n",
    "missing_values = calculate_missing_values(df)\n",
    "\n",
    "# join the object columns from df with missing_values. merge on gvkey\n",
    "object_cols = df.select_dtypes(include=[object]).columns\n",
    "object_cols = object_cols.append(pd.Index([\"gvkey\"]))\n",
    "object_df = df[object_cols].drop_duplicates(subset=\"gvkey\", keep=\"first\")\n",
    "\n",
    "object_df = object_df.set_index(\"gvkey\")\n",
    "\n",
    "# join the object columns from df with missing_values. merge on gvkey\n",
    "missing_values = object_df.join(missing_values, on=\"gvkey\")\n",
    "\n",
    "descriptive_stats_missing_values = missing_values.describe()"
   ],
   "id": "3d8051338cd5fb6e",
   "outputs": [],
   "execution_count": 23
  },
  {
   "metadata": {
    "ExecuteTime": {
     "end_time": "2024-06-17T21:21:27.325236Z",
     "start_time": "2024-06-17T21:21:27.227757Z"
    }
   },
   "cell_type": "code",
   "source": [
    "# write a function that takes a respective input dataframe and returns two new dataframes.\n",
    "# the first dataframe should compute\n",
    "# the mean, median, min, max, standard deviation 25th and 75th percentile of the respective column.\n",
    "# the second dataframe\n",
    "# should compute the average of all rows (for each gvkey) calculate the number of missing values in each column as\n",
    "# percentage of the length of the timeseries and store the result in a new dataframe\n",
    "\n",
    "\n",
    "def calculate_descriptive_statistics(df: pd.DataFrame):\n",
    "    descriptive_statistics = pd.DataFrame(\n",
    "        index=[\n",
    "            \"mean\",\n",
    "            \"median\",\n",
    "            \"min\",\n",
    "            \"max\",\n",
    "            \"std\",\n",
    "            \"25th_percentile\",\n",
    "            \"75th_percentile\",\n",
    "        ]\n",
    "    )\n",
    "    for col in df.columns:\n",
    "        if df[col].dtype == \"float64\" or df[col].dtype == \"int64\":\n",
    "            descriptive_statistics[col] = [\n",
    "                df[col].mean(),\n",
    "                df[col].median(),\n",
    "                df[col].min(),\n",
    "                df[col].max(),\n",
    "                df[col].std(),\n",
    "                df[col].quantile(0.25),\n",
    "                df[col].quantile(0.75),\n",
    "            ]\n",
    "\n",
    "    numeric_cols = df.select_dtypes(include=[np.number]).columns\n",
    "    df = df[numeric_cols]\n",
    "\n",
    "    index = df.index\n",
    "    row_statistics = pd.DataFrame(index=index)\n",
    "    row_statistics[\"mean\"] = df.mean(axis=1)\n",
    "    row_statistics[\"std\"] = df.std(axis=1)\n",
    "    row_statistics[\"min\"] = df.min(axis=1)\n",
    "    row_statistics[\"25th_percentile\"] = df.quantile(0.25, axis=1)\n",
    "    row_statistics[\"median\"] = df.median(axis=1)\n",
    "    row_statistics[\"75th_percentile\"] = df.quantile(0.75, axis=1)\n",
    "    row_statistics[\"max\"] = df.max(axis=1)\n",
    "\n",
    "    return descriptive_statistics, row_statistics\n",
    "\n",
    "\n",
    "descriptive_statistics, row_statistics = calculate_descriptive_statistics(\n",
    "    missing_values\n",
    ")"
   ],
   "id": "6d40ff2b3f67e258",
   "outputs": [],
   "execution_count": 24
  },
  {
   "metadata": {
    "ExecuteTime": {
     "end_time": "2024-06-17T21:21:29.738610Z",
     "start_time": "2024-06-17T21:21:29.585692Z"
    }
   },
   "cell_type": "code",
   "source": [
    "# generate a bar plot which plots the mean of each column in descriptive_statistics\n",
    "\n",
    "descriptive_statistics = descriptive_statistics.T\n",
    "plt.figure(figsize=(20, 10))\n",
    "descriptive_statistics[\"mean\"].plot(kind=\"bar\")\n",
    "# plt.show()"
   ],
   "id": "bc470c6fb410f386",
   "outputs": [
    {
     "data": {
      "text/plain": [
       "<Axes: >"
      ]
     },
     "execution_count": 25,
     "metadata": {},
     "output_type": "execute_result"
    },
    {
     "data": {
      "text/plain": [
       "<Figure size 2000x1000 with 1 Axes>"
      ],
      "image/png": "[encoded data removed]"
     },
     "metadata": {},
     "output_type": "display_data"
    }
   ],
   "execution_count": 25
  },
  {
   "metadata": {
    "ExecuteTime": {
     "end_time": "2024-06-17T21:22:20.314417Z",
     "start_time": "2024-06-17T21:21:33.405284Z"
    }
   },
   "cell_type": "code",
   "source": [
    "# count the number of -inf and inf values in each column of df and store the result in a new dataframe\n",
    "def count_inf_values(df: pd.DataFrame):\n",
    "    inf_values = pd.DataFrame(index=[\"count\"])\n",
    "    for col in df.columns:\n",
    "        if df[col].dtype == \"float64\" or df[col].dtype == \"int64\":\n",
    "            inf_values[col + \"_inf\"] = [\n",
    "                df[col].apply(lambda x: np.isinf(x)).sum()\n",
    "            ]\n",
    "    return inf_values\n",
    "\n",
    "\n",
    "# Calculate infinity values\n",
    "inf_values = count_inf_values(df)"
   ],
   "id": "55391fa560655420",
   "outputs": [],
   "execution_count": 26
  },
  {
   "metadata": {
    "ExecuteTime": {
     "end_time": "2024-06-17T22:27:26.298561Z",
     "start_time": "2024-06-17T22:21:22.115833Z"
    }
   },
   "cell_type": "code",
   "source": [
    "# check if there are rows in df which contain a value in prccdAdjGBP bur not in RET. if so, store gvkey in a list\n",
    "\n",
    "gvkeys_list = df[\"gvkey\"].unique()\n",
    "gvkey_list = []\n",
    "for gvkey in gvkeys_list:\n",
    "    if df[df[\"gvkey\"] == gvkey][\"prccdAdjGBP\"].notna().all():\n",
    "        if df[df[\"gvkey\"] == gvkey][\"RET\"].isna().all():\n",
    "            gvkey_list.append(gvkey)"
   ],
   "id": "dec86f018e50c3f0",
   "outputs": [],
   "execution_count": 27
  },
  {
   "metadata": {},
   "cell_type": "code",
   "outputs": [],
   "execution_count": null,
   "source": "",
   "id": "f5d41b92a75fd11e"
  }
 ],
 "metadata": {
  "kernelspec": {
   "display_name": "Python 3",
   "language": "python",
   "name": "python3"
  },
  "language_info": {
   "codemirror_mode": {
    "name": "ipython",
    "version": 2
   },
   "file_extension": ".py",
   "mimetype": "text/x-python",
   "name": "python",
   "nbconvert_exporter": "python",
   "pygments_lexer": "ipython2",
   "version": "2.7.6"
  }
 },
 "nbformat": 4,
 "nbformat_minor": 5
}
