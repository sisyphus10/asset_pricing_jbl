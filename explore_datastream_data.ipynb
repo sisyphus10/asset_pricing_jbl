{
 "cells": [
  {
   "cell_type": "code",
   "id": "initial_id",
   "metadata": {
    "collapsed": true,
    "jupyter": {
     "is_executing": true
    }
   },
   "source": [
    "import polars as pl\n",
    "import pandas as pd\n",
    "from pathlib import Path\n",
    "import zipfile\n",
    "\n",
    "onedrive_path: Path = (\n",
    "    Path.home()\n",
    "    / \"Library/CloudStorage/OneDrive-Personal/Documents/Asset Pricing/data\"\n",
    ")\n",
    "\n",
    "if not onedrive_path.exists():\n",
    "    raise FileNotFoundError(\"OneDrive path not found\")\n",
    "\n",
    "zip_file: Path = onedrive_path / \"Stata Main Redux.zip\"\n",
    "assert zip_file.exists()"
   ],
   "outputs": [],
   "execution_count": null
  },
  {
   "metadata": {
    "jupyter": {
     "is_executing": true
    }
   },
   "cell_type": "code",
   "source": [
    "from io import BytesIO, StringIO\n",
    "\n",
    "# Get contents and print them first\n",
    "with zipfile.ZipFile(zip_file, \"r\") as z:\n",
    "    z.printdir()\n",
    "\n",
    "\n",
    "def open_inside_zip(sub_path: str) -> bytes:\n",
    "    buffer = BytesIO()\n",
    "\n",
    "    with zipfile.ZipFile(zip_file, \"r\") as z:\n",
    "        with z.open(sub_path) as f:\n",
    "            b = f.read()\n",
    "            buffer.write(b)\n",
    "\n",
    "    buffer.seek(0)\n",
    "    # Print how many GB\n",
    "    print(f\"Read {buffer.getbuffer().nbytes / 1024**3:.2f} GB from {sub_path}\")\n",
    "    return buffer\n",
    "\n",
    "\n",
    "df = pd.read_stata(open_inside_zip(\"worldscope_yearly_data.dta\"))\n",
    "df"
   ],
   "id": "3d337ae126fc99bd",
   "outputs": [],
   "execution_count": null
  },
  {
   "metadata": {
    "jupyter": {
     "is_executing": true
    }
   },
   "cell_type": "code",
   "source": [
    "pl_df = pl.DataFrame(df)\n",
    "pl_df"
   ],
   "id": "c2ab5c705a599d70",
   "outputs": [],
   "execution_count": null
  },
  {
   "metadata": {
    "jupyter": {
     "is_executing": true
    }
   },
   "cell_type": "code",
   "source": "pl_df.columns",
   "id": "5d93e39db94d26e4",
   "outputs": [],
   "execution_count": null
  },
  {
   "metadata": {
    "jupyter": {
     "is_executing": true
    }
   },
   "cell_type": "code",
   "source": "df.value_counts(\"currency_WS\")",
   "id": "cdd20339f51f8fb0",
   "outputs": [],
   "execution_count": null
  },
  {
   "metadata": {
    "jupyter": {
     "is_executing": true
    }
   },
   "cell_type": "code",
   "source": [
    "# Count how many currencies we have\n",
    "pl_df.group_by(\"currency_WS\").len().sort(\"len\").reverse()"
   ],
   "id": "d64c99ef368fb995",
   "outputs": [],
   "execution_count": null
  },
  {
   "metadata": {
    "jupyter": {
     "is_executing": true
    }
   },
   "cell_type": "code",
   "source": [
    "def read_file(name: str) -> pl.DataFrame:\n",
    "    buf = open_inside_zip(name)\n",
    "    pd_df = pd.read_stata(buf)\n",
    "    return pl.DataFrame(pd_df)\n",
    "\n",
    "\n",
    "static_data = read_file(\"static_data_ISD_UScomplete.dta\")\n",
    "static_data"
   ],
   "id": "f63cb113432a5ab1",
   "outputs": [],
   "execution_count": null
  },
  {
   "metadata": {
    "jupyter": {
     "is_executing": true
    }
   },
   "cell_type": "code",
   "source": "static_data.group_by(\"TYPE\").len().sort(\"len\").reverse()",
   "id": "5c4532b7af898b3d",
   "outputs": [],
   "execution_count": null
  },
  {
   "metadata": {
    "jupyter": {
     "is_executing": true
    }
   },
   "cell_type": "code",
   "source": "static_data.columns",
   "id": "623c8b81392d097f",
   "outputs": [],
   "execution_count": null
  },
  {
   "metadata": {
    "jupyter": {
     "is_executing": true
    }
   },
   "cell_type": "code",
   "source": [
    "monthly_returns = read_file(\"datastream_monthly_stock_data.dta\")\n",
    "monthly_returns"
   ],
   "id": "6ed1463328d5a1f",
   "outputs": [],
   "execution_count": null
  },
  {
   "metadata": {
    "jupyter": {
     "is_executing": true
    }
   },
   "cell_type": "code",
   "source": [
    "monthly_returns.group_by(\"dscd\").count().sort(\"count\").reverse()"
   ],
   "id": "9dc864ed4b4004c4",
   "outputs": [],
   "execution_count": null
  },
  {
   "metadata": {
    "jupyter": {
     "is_executing": true
    }
   },
   "cell_type": "code",
   "source": [
    "# Select only rows from the first dscd and plot the RI_USD over time\n",
    "first_dscd = monthly_returns.filter(pl.col(\"dscd\") == \"916122\").select(\n",
    "    pl.col(\"RI_USD\")\n",
    ")\n",
    "\n",
    "# And plot it over time\n",
    "first_dscd.plot()"
   ],
   "id": "68e5f293aec5b1ae",
   "outputs": [],
   "execution_count": null
  },
  {
   "metadata": {
    "jupyter": {
     "is_executing": true
    }
   },
   "cell_type": "code",
   "source": [
    "all_merged = read_file(\"ds_ws_ibes_merge_timely_6months.dta\")\n",
    "all_merged"
   ],
   "id": "7f627ec487aee7dc",
   "outputs": [],
   "execution_count": null
  },
  {
   "metadata": {
    "jupyter": {
     "is_executing": true
    }
   },
   "cell_type": "code",
   "source": "all_merged.columns",
   "id": "1d5dcbe3db5bc0d3",
   "outputs": [],
   "execution_count": null
  },
  {
   "metadata": {
    "jupyter": {
     "is_executing": true
    }
   },
   "cell_type": "code",
   "source": "read_file(\"datastream_monthly_stock_data_unwinsorized_returns.dta\")",
   "id": "c48bd29320cc56d0",
   "outputs": [],
   "execution_count": null
  }
 ],
 "metadata": {
  "kernelspec": {
   "display_name": "Python 3",
   "language": "python",
   "name": "python3"
  },
  "language_info": {
   "codemirror_mode": {
    "name": "ipython",
    "version": 2
   },
   "file_extension": ".py",
   "mimetype": "text/x-python",
   "name": "python",
   "nbconvert_exporter": "python",
   "pygments_lexer": "ipython2",
   "version": "2.7.6"
  }
 },
 "nbformat": 4,
 "nbformat_minor": 5
}
